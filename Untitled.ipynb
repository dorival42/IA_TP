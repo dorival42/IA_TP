{
 "cells": [
  {
   "cell_type": "code",
   "execution_count": 2,
   "id": "a66f28f1-fbad-4ae2-af1f-f5c6ae59c786",
   "metadata": {},
   "outputs": [
    {
     "ename": "FileNotFoundError",
     "evalue": "[Errno 2] No such file or directory: 'C:\\\\Users\\\\DELL\\\\Desktop\\\\Cours SMSD\\\\IA\\\\images (2)\\\\images\\\\brain.npy'",
     "output_type": "error",
     "traceback": [
      "\u001b[0;31m---------------------------------------------------------------------------\u001b[0m",
      "\u001b[0;31mFileNotFoundError\u001b[0m                         Traceback (most recent call last)",
      "Cell \u001b[0;32mIn[2], line 10\u001b[0m\n\u001b[1;32m      4\u001b[0m \u001b[38;5;28;01mimport\u001b[39;00m \u001b[38;5;21;01mmatplotlib\u001b[39;00m\u001b[38;5;21;01m.\u001b[39;00m\u001b[38;5;21;01mpyplot\u001b[39;00m \u001b[38;5;28;01mas\u001b[39;00m \u001b[38;5;21;01mplt\u001b[39;00m\n\u001b[1;32m      6\u001b[0m \u001b[38;5;66;03m# Charger les données\u001b[39;00m\n\u001b[1;32m      7\u001b[0m \n\u001b[1;32m      8\u001b[0m \u001b[38;5;66;03m# brain = load_data(\"bold_volume\")\u001b[39;00m\n\u001b[1;32m      9\u001b[0m \u001b[38;5;66;03m# brain = np.load('brain.npy')\u001b[39;00m\n\u001b[0;32m---> 10\u001b[0m brain \u001b[38;5;241m=\u001b[39m \u001b[43mnp\u001b[49m\u001b[38;5;241;43m.\u001b[39;49m\u001b[43mload\u001b[49m\u001b[43m(\u001b[49m\u001b[38;5;124;43mr\u001b[39;49m\u001b[38;5;124;43m'\u001b[39;49m\u001b[38;5;124;43mC:\u001b[39;49m\u001b[38;5;124;43m\\\u001b[39;49m\u001b[38;5;124;43mUsers\u001b[39;49m\u001b[38;5;124;43m\\\u001b[39;49m\u001b[38;5;124;43mDELL\u001b[39;49m\u001b[38;5;124;43m\\\u001b[39;49m\u001b[38;5;124;43mDesktop\u001b[39;49m\u001b[38;5;124;43m\\\u001b[39;49m\u001b[38;5;124;43mCours SMSD\u001b[39;49m\u001b[38;5;124;43m\\\u001b[39;49m\u001b[38;5;124;43mIA\u001b[39;49m\u001b[38;5;124;43m\\\u001b[39;49m\u001b[38;5;124;43mimages (2)\u001b[39;49m\u001b[38;5;124;43m\\\u001b[39;49m\u001b[38;5;124;43mimages\u001b[39;49m\u001b[38;5;124;43m\\\u001b[39;49m\u001b[38;5;124;43mbrain.npy\u001b[39;49m\u001b[38;5;124;43m'\u001b[39;49m\u001b[43m)\u001b[49m\n\u001b[1;32m     12\u001b[0m \u001b[38;5;66;03m# Prendre une coupe horizontale au milieu du cerveau\u001b[39;00m\n\u001b[1;32m     13\u001b[0m slice10 \u001b[38;5;241m=\u001b[39m brain[:, :, \u001b[38;5;241m10\u001b[39m]\n",
      "File \u001b[0;32m~/mydata/lib/python3.10/site-packages/numpy/lib/_npyio_impl.py:459\u001b[0m, in \u001b[0;36mload\u001b[0;34m(file, mmap_mode, allow_pickle, fix_imports, encoding, max_header_size)\u001b[0m\n\u001b[1;32m    457\u001b[0m     own_fid \u001b[38;5;241m=\u001b[39m \u001b[38;5;28;01mFalse\u001b[39;00m\n\u001b[1;32m    458\u001b[0m \u001b[38;5;28;01melse\u001b[39;00m:\n\u001b[0;32m--> 459\u001b[0m     fid \u001b[38;5;241m=\u001b[39m stack\u001b[38;5;241m.\u001b[39menter_context(\u001b[38;5;28;43mopen\u001b[39;49m\u001b[43m(\u001b[49m\u001b[43mos\u001b[49m\u001b[38;5;241;43m.\u001b[39;49m\u001b[43mfspath\u001b[49m\u001b[43m(\u001b[49m\u001b[43mfile\u001b[49m\u001b[43m)\u001b[49m\u001b[43m,\u001b[49m\u001b[43m \u001b[49m\u001b[38;5;124;43m\"\u001b[39;49m\u001b[38;5;124;43mrb\u001b[39;49m\u001b[38;5;124;43m\"\u001b[39;49m\u001b[43m)\u001b[49m)\n\u001b[1;32m    460\u001b[0m     own_fid \u001b[38;5;241m=\u001b[39m \u001b[38;5;28;01mTrue\u001b[39;00m\n\u001b[1;32m    462\u001b[0m \u001b[38;5;66;03m# Code to distinguish from NumPy binary files and pickles.\u001b[39;00m\n",
      "\u001b[0;31mFileNotFoundError\u001b[0m: [Errno 2] No such file or directory: 'C:\\\\Users\\\\DELL\\\\Desktop\\\\Cours SMSD\\\\IA\\\\images (2)\\\\images\\\\brain.npy'"
     ]
    }
   ],
   "source": [
    "# Chargement des bibliothèques nécessaires\n",
    "#from ndslib import load_data\n",
    "import numpy as np\n",
    "import matplotlib.pyplot as plt\n",
    "\n",
    "# Charger les données\n",
    "\n",
    "# brain = load_data(\"bold_volume\")\n",
    "# brain = np.load('brain.npy')\n",
    "brain = np.load(r'C:\\Users\\DELL\\Desktop\\Cours SMSD\\IA\\images (2)\\images\\brain.npy')\n",
    "\n",
    "# Prendre une coupe horizontale au milieu du cerveau\n",
    "slice10 = brain[:, :, 10]\n",
    "\n",
    "# Visualiser l'image\n",
    "fig, ax = plt.subplots()\n",
    "im = ax.imshow(slice10, cmap=\"bone\")\n",
    "ax.set_title(\"Coupe du cerveau\")\n",
    "plt.axis('off')\n",
    "plt.show()\n",
    "\n",
    "# Calculer l'histogramme\n",
    "fig, ax = plt.subplots()\n",
    "ax.hist(slice10.flat, bins=50)\n",
    "ax.set_title(\"Histogramme des valeurs d'intensité\")\n",
    "plt.xlabel(\"Intensité\")\n",
    "plt.ylabel(\"Fréquence\")\n",
    "plt.show()\n",
    "\n",
    "# Implémentation de la méthode d'Otsu pour trouver le seuil\n",
    "min_intraclass_variance = np.inf\n",
    "threshold = 0\n",
    "\n",
    "for candidate in np.unique(slice10):\n",
    "    foreground = slice10[slice10 >= candidate]\n",
    "    background = slice10[slice10 < candidate]\n",
    "    if len(foreground) > 0 and len(background) > 0:\n",
    "        foreground_variance = np.var(foreground) * len(foreground)\n",
    "        background_variance = np.var(background) * len(background)\n",
    "        intraclass_variance = foreground_variance + background_variance\n",
    "        if intraclass_variance < min_intraclass_variance:\n",
    "            min_intraclass_variance = intraclass_variance\n",
    "            threshold = candidate\n",
    "\n",
    "# Afficher la moyenne et le seuil d'Otsu sur l'histogramme\n",
    "mean = np.mean(slice10)\n",
    "fig, ax = plt.subplots()\n",
    "ax.hist(slice10.flat, bins=50)\n",
    "ax.axvline(mean, linestyle='dashed', color='red', label='Moyenne')\n",
    "ax.axvline(threshold, linestyle='dotted', color='blue', label='Seuil Otsu')\n",
    "ax.set_title(\"Histogramme avec seuils\")\n",
    "plt.xlabel(\"Intensité\")\n",
    "plt.ylabel(\"Fréquence\")\n",
    "plt.legend()\n",
    "plt.show()\n",
    "\n",
    "# Segmentation de l'image\n",
    "segmentation = np.zeros_like(slice10)\n",
    "segmentation[slice10 >= threshold] = 1\n",
    "\n",
    "# Visualiser la segmentation\n",
    "fig, ax = plt.subplots()\n",
    "ax.imshow(slice10, cmap=\"bone\")\n",
    "ax.imshow(segmentation, alpha=0.5, cmap=\"gray\")\n",
    "ax.set_title(\"Segmentation avec seuil Otsu\")\n",
    "plt.axis('off')\n",
    "plt.show()\n"
   ]
  },
  {
   "cell_type": "code",
   "execution_count": null,
   "id": "fb112abb-527d-4fd6-af2b-74afb03c8189",
   "metadata": {},
   "outputs": [],
   "source": []
  }
 ],
 "metadata": {
  "kernelspec": {
   "display_name": "Python 3 (ipykernel)",
   "language": "python",
   "name": "python3"
  },
  "language_info": {
   "codemirror_mode": {
    "name": "ipython",
    "version": 3
   },
   "file_extension": ".py",
   "mimetype": "text/x-python",
   "name": "python",
   "nbconvert_exporter": "python",
   "pygments_lexer": "ipython3",
   "version": "3.10.12"
  }
 },
 "nbformat": 4,
 "nbformat_minor": 5
}
